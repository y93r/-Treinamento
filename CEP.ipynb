{
 "cells": [
  {
   "cell_type": "markdown",
   "id": "2055d03e",
   "metadata": {},
   "source": [
    "# CEP\n",
    "\n",
    "Via CEP\n",
    "<https://viacep.com.br/>"
   ]
  },
  {
   "cell_type": "markdown",
   "id": "657e9925",
   "metadata": {},
   "source": [
    "#### Busca de CEP a partir de endereço"
   ]
  },
  {
   "cell_type": "code",
   "execution_count": 6,
   "id": "3e3de856",
   "metadata": {},
   "outputs": [
    {
     "name": "stdout",
     "output_type": "stream",
     "text": [
      "Informe o UF: sp\n",
      "Informe a cidade: jundiaí\n",
      "Informe o logradouro: avenida 9 de julho\n",
      "<Response [200]>\n",
      "[{'cep': '13208-056', 'logradouro': 'Avenida Nove de Julho', 'complemento': 'de 2000/2001 ao fim', 'bairro': 'Anhangabaú', 'localidade': 'Jundiaí', 'uf': 'SP', 'ibge': '3525904', 'gia': '4078', 'ddd': '11', 'siafi': '6619'}, {'cep': '13209-011', 'logradouro': 'Avenida Nove de Julho', 'complemento': 'de 1000 a 1998 - lado par', 'bairro': 'Vila Virgínia', 'localidade': 'Jundiaí', 'uf': 'SP', 'ibge': '3525904', 'gia': '4078', 'ddd': '11', 'siafi': '6619'}, {'cep': '13201-019', 'logradouro': 'Avenida Nove de Julho', 'complemento': 'até 0999 - lado ímpar', 'bairro': 'Centro', 'localidade': 'Jundiaí', 'uf': 'SP', 'ibge': '3525904', 'gia': '4078', 'ddd': '11', 'siafi': '6619'}, {'cep': '13201-908', 'logradouro': 'Avenida Nove de Julho', 'complemento': '1155', 'bairro': 'Vila Ponte de Campinas', 'localidade': 'Jundiaí', 'uf': 'SP', 'ibge': '3525904', 'gia': '4078', 'ddd': '11', 'siafi': '6619'}, {'cep': '13201-020', 'logradouro': 'Avenida Nove de Julho', 'complemento': 'de 1001 a 1999 - lado ímpar', 'bairro': 'Centro', 'localidade': 'Jundiaí', 'uf': 'SP', 'ibge': '3525904', 'gia': '4078', 'ddd': '11', 'siafi': '6619'}, {'cep': '13209-010', 'logradouro': 'Avenida Nove de Julho', 'complemento': 'até 0998 - lado par', 'bairro': 'Vila Virgínia', 'localidade': 'Jundiaí', 'uf': 'SP', 'ibge': '3525904', 'gia': '4078', 'ddd': '11', 'siafi': '6619'}]\n"
     ]
    }
   ],
   "source": [
    "import requests\n",
    "\n",
    "uf = input('Informe o UF: ')\n",
    "cidade = input('Informe a cidade: ')\n",
    "logradouro = input('Informe o logradouro: ')\n",
    "\n",
    "link = f'https://viacep.com.br/ws/{uf}/{cidade}/{logradouro}/json/'\n",
    "\n",
    "requisicao = requests.get(link)\n",
    "print(requisicao)\n",
    "\n",
    "dic_requisicao = requisicao.json()\n",
    "print(dic_requisicao)"
   ]
  },
  {
   "cell_type": "code",
   "execution_count": 7,
   "id": "9c7cb417",
   "metadata": {},
   "outputs": [
    {
     "data": {
      "text/html": [
       "<div>\n",
       "<style scoped>\n",
       "    .dataframe tbody tr th:only-of-type {\n",
       "        vertical-align: middle;\n",
       "    }\n",
       "\n",
       "    .dataframe tbody tr th {\n",
       "        vertical-align: top;\n",
       "    }\n",
       "\n",
       "    .dataframe thead th {\n",
       "        text-align: right;\n",
       "    }\n",
       "</style>\n",
       "<table border=\"1\" class=\"dataframe\">\n",
       "  <thead>\n",
       "    <tr style=\"text-align: right;\">\n",
       "      <th></th>\n",
       "      <th>cep</th>\n",
       "      <th>logradouro</th>\n",
       "      <th>complemento</th>\n",
       "      <th>bairro</th>\n",
       "      <th>localidade</th>\n",
       "      <th>uf</th>\n",
       "      <th>ibge</th>\n",
       "      <th>gia</th>\n",
       "      <th>ddd</th>\n",
       "      <th>siafi</th>\n",
       "    </tr>\n",
       "  </thead>\n",
       "  <tbody>\n",
       "    <tr>\n",
       "      <th>0</th>\n",
       "      <td>13208-056</td>\n",
       "      <td>Avenida Nove de Julho</td>\n",
       "      <td>de 2000/2001 ao fim</td>\n",
       "      <td>Anhangabaú</td>\n",
       "      <td>Jundiaí</td>\n",
       "      <td>SP</td>\n",
       "      <td>3525904</td>\n",
       "      <td>4078</td>\n",
       "      <td>11</td>\n",
       "      <td>6619</td>\n",
       "    </tr>\n",
       "    <tr>\n",
       "      <th>1</th>\n",
       "      <td>13209-011</td>\n",
       "      <td>Avenida Nove de Julho</td>\n",
       "      <td>de 1000 a 1998 - lado par</td>\n",
       "      <td>Vila Virgínia</td>\n",
       "      <td>Jundiaí</td>\n",
       "      <td>SP</td>\n",
       "      <td>3525904</td>\n",
       "      <td>4078</td>\n",
       "      <td>11</td>\n",
       "      <td>6619</td>\n",
       "    </tr>\n",
       "    <tr>\n",
       "      <th>2</th>\n",
       "      <td>13201-019</td>\n",
       "      <td>Avenida Nove de Julho</td>\n",
       "      <td>até 0999 - lado ímpar</td>\n",
       "      <td>Centro</td>\n",
       "      <td>Jundiaí</td>\n",
       "      <td>SP</td>\n",
       "      <td>3525904</td>\n",
       "      <td>4078</td>\n",
       "      <td>11</td>\n",
       "      <td>6619</td>\n",
       "    </tr>\n",
       "    <tr>\n",
       "      <th>3</th>\n",
       "      <td>13201-908</td>\n",
       "      <td>Avenida Nove de Julho</td>\n",
       "      <td>1155</td>\n",
       "      <td>Vila Ponte de Campinas</td>\n",
       "      <td>Jundiaí</td>\n",
       "      <td>SP</td>\n",
       "      <td>3525904</td>\n",
       "      <td>4078</td>\n",
       "      <td>11</td>\n",
       "      <td>6619</td>\n",
       "    </tr>\n",
       "    <tr>\n",
       "      <th>4</th>\n",
       "      <td>13201-020</td>\n",
       "      <td>Avenida Nove de Julho</td>\n",
       "      <td>de 1001 a 1999 - lado ímpar</td>\n",
       "      <td>Centro</td>\n",
       "      <td>Jundiaí</td>\n",
       "      <td>SP</td>\n",
       "      <td>3525904</td>\n",
       "      <td>4078</td>\n",
       "      <td>11</td>\n",
       "      <td>6619</td>\n",
       "    </tr>\n",
       "    <tr>\n",
       "      <th>5</th>\n",
       "      <td>13209-010</td>\n",
       "      <td>Avenida Nove de Julho</td>\n",
       "      <td>até 0998 - lado par</td>\n",
       "      <td>Vila Virgínia</td>\n",
       "      <td>Jundiaí</td>\n",
       "      <td>SP</td>\n",
       "      <td>3525904</td>\n",
       "      <td>4078</td>\n",
       "      <td>11</td>\n",
       "      <td>6619</td>\n",
       "    </tr>\n",
       "  </tbody>\n",
       "</table>\n",
       "</div>"
      ],
      "text/plain": [
       "         cep             logradouro                  complemento  \\\n",
       "0  13208-056  Avenida Nove de Julho          de 2000/2001 ao fim   \n",
       "1  13209-011  Avenida Nove de Julho    de 1000 a 1998 - lado par   \n",
       "2  13201-019  Avenida Nove de Julho        até 0999 - lado ímpar   \n",
       "3  13201-908  Avenida Nove de Julho                         1155   \n",
       "4  13201-020  Avenida Nove de Julho  de 1001 a 1999 - lado ímpar   \n",
       "5  13209-010  Avenida Nove de Julho          até 0998 - lado par   \n",
       "\n",
       "                   bairro localidade  uf     ibge   gia ddd siafi  \n",
       "0              Anhangabaú    Jundiaí  SP  3525904  4078  11  6619  \n",
       "1           Vila Virgínia    Jundiaí  SP  3525904  4078  11  6619  \n",
       "2                  Centro    Jundiaí  SP  3525904  4078  11  6619  \n",
       "3  Vila Ponte de Campinas    Jundiaí  SP  3525904  4078  11  6619  \n",
       "4                  Centro    Jundiaí  SP  3525904  4078  11  6619  \n",
       "5           Vila Virgínia    Jundiaí  SP  3525904  4078  11  6619  "
      ]
     },
     "metadata": {},
     "output_type": "display_data"
    }
   ],
   "source": [
    "import pandas as pd\n",
    "\n",
    "tabela = pd.DataFrame(dic_requisicao)\n",
    "display(tabela)"
   ]
  }
 ],
 "metadata": {
  "kernelspec": {
   "display_name": "Python 3 (ipykernel)",
   "language": "python",
   "name": "python3"
  },
  "language_info": {
   "codemirror_mode": {
    "name": "ipython",
    "version": 3
   },
   "file_extension": ".py",
   "mimetype": "text/x-python",
   "name": "python",
   "nbconvert_exporter": "python",
   "pygments_lexer": "ipython3",
   "version": "3.9.12"
  }
 },
 "nbformat": 4,
 "nbformat_minor": 5
}
